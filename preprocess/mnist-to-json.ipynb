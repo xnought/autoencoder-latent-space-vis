{
 "metadata": {
  "language_info": {
   "codemirror_mode": {
    "name": "ipython",
    "version": 3
   },
   "file_extension": ".py",
   "mimetype": "text/x-python",
   "name": "python",
   "nbconvert_exporter": "python",
   "pygments_lexer": "ipython3",
   "version": "3.9.5"
  },
  "orig_nbformat": 4,
  "kernelspec": {
   "name": "python3",
   "display_name": "Python 3.9.5 64-bit"
  },
  "interpreter": {
   "hash": "aee8b7b246df8f9039afb4144a1f6fd8d2ca17a180786b69acc140d282b71a49"
  }
 },
 "nbformat": 4,
 "nbformat_minor": 2,
 "cells": [
  {
   "cell_type": "code",
   "execution_count": 3,
   "metadata": {},
   "outputs": [],
   "source": [
    "from tensorflow import keras\n",
    "import numpy as np\n",
    "import json\n",
    "from json import JSONEncoder\n",
    "import shutil\n",
    "from shutil import copyfile"
   ]
  },
  {
   "cell_type": "code",
   "execution_count": 4,
   "metadata": {},
   "outputs": [],
   "source": [
    "# import the mnist data\n",
    "(xTrain, yTrain), (xTest, yTest) = keras.datasets.mnist.load_data()\n",
    "\n",
    "# normalize for greyscale\n",
    "\n",
    "xTrain = xTrain.astype(np.float32) / 255.0\n",
    "xTest = xTest.astype(np.float32) / 255.0"
   ]
  },
  {
   "cell_type": "code",
   "execution_count": 5,
   "metadata": {},
   "outputs": [],
   "source": [
    "# credit to https://pynative.com/python-serialize-numpy-ndarray-into-json/\n",
    "class NumpyArrayEncoder(json.JSONEncoder):\n",
    "    def default(self, obj):\n",
    "        if isinstance(obj, np.integer):\n",
    "            return int(obj)\n",
    "        elif isinstance(obj, np.floating):\n",
    "            return float(obj)\n",
    "        elif isinstance(obj, np.ndarray):\n",
    "            return obj.tolist()\n",
    "        else:\n",
    "            return super(NumpyArrayEncoder, self).default(obj)\n",
    "\n",
    "\n",
    "trainJSON = []\n",
    "testJSON = []\n",
    "for data, label in zip(xTrain, yTrain):\n",
    "    trainJSON.append({\"data\": data.flatten(), \"label\": label})\n",
    "\n",
    "for data, label in zip(xTest, yTest):\n",
    "    testJSON.append({\"data\": data.flatten(), \"label\": label})"
   ]
  },
  {
   "cell_type": "code",
   "execution_count": null,
   "metadata": {},
   "outputs": [],
   "source": [
    "# export all\n",
    "svelteFilesFolder = \"../svelte/public/datafiles\"\n",
    "# pythonFilesFolder = \"../datafiles\"\n",
    "\n",
    "\n",
    "def trainMNIST(path): return f\"{path}/train-MNIST.json\"\n",
    "def testMNIST(path): return f\"{path}/test-MNIST.json\"\n",
    "\n",
    "\n",
    "svelteTrain = trainMNIST(svelteFilesFolder)\n",
    "svelteTest = testMNIST(svelteFilesFolder)\n",
    "\n",
    "# pythonTrain = trainMNIST(pythonFilesFolder)\n",
    "# pythonTest = testMNIST(pythonFilesFolder)\n",
    "\n",
    "# add to the datafiles in public/svelte\n",
    "# with open(svelteTrain, \"w\") as f:\n",
    "#     json.dump(trainJSON, f, cls=NumpyArrayEncoder)\n",
    "with open(svelteTest, \"w\") as f:\n",
    "    json.dump(testJSON, f, cls=NumpyArrayEncoder)\n",
    "\n",
    "# copy to the python folder for later use (currently not being used)\n",
    "# copyfile(svelteTest, pythonTest)\n",
    "# copyfile(svelteTrain, pythonTrain)"
   ]
  }
 ]
}